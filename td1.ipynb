{
 "cells": [
  {
   "cell_type": "markdown",
   "metadata": {},
   "source": [
    "# Python exercises\n",
    "\n",
    "### In this lecture, we will practice with general concepts in Python"
   ]
  },
  {
   "cell_type": "markdown",
   "metadata": {},
   "source": [
    "## Working with functions"
   ]
  },
  {
   "cell_type": "code",
   "execution_count": 36,
   "metadata": {},
   "outputs": [
    {
     "name": "stdout",
     "output_type": "stream",
     "text": [
      "3628800\n"
     ]
    }
   ],
   "source": [
    "def factorial(n: int) -> int:\n",
    "  \"\"\"\n",
    "  Function that calculates the factorial of an integer\n",
    "  REMEMBER: the factorial of a non-negative integer n, denoted by n!, is the product of all positive integers less than or equal to n\n",
    "  \"\"\"\n",
    "    \n",
    "  ### BEGIN SOLUTION\n",
    "import math\n",
    "num = 10\n",
    "print(math.factorial(int(num)))\n",
    "  ### END SOLUTION\n",
    "\n"
   ]
  },
  {
   "cell_type": "code",
   "execution_count": null,
   "metadata": {},
   "outputs": [],
   "source": [
    "assert factorial(10) == 3628800\n",
    "assert factorial(1) == 1"
   ]
  },
  {
   "cell_type": "code",
   "execution_count": 9,
   "metadata": {},
   "outputs": [
    {
     "name": "stdout",
     "output_type": "stream",
     "text": [
      "55\n",
      "1\n"
     ]
    }
   ],
   "source": [
    "def fibonacci(n: int) -> int:\n",
    "  \"\"\"\n",
    "  Function that calculates the fibonacci number of an integer\n",
    "  REMEMBER: Fibonacci numbers form a sequence such that each number is the sum of the two preceding ones, starting from 0 and 1.\n",
    "  \"\"\"\n",
    "    \n",
    "  ### BEGIN SOLUTION\n",
    "def fibonacci(n):\n",
    "        if n < 0:\n",
    "            print (\"incorrect input\")\n",
    "        elif n == 0:\n",
    "            return 0\n",
    "        elif n == 1 or n == 2 :\n",
    "            return 1\n",
    "        else:\n",
    "            return fibonacci(n-1) + fibonacci (n-2)\n",
    "  \n",
    "  ### END SOLUTION\n",
    "assert fibonacci(10)\n",
    "print (fibonacci(10))\n",
    "assert fibonacci(1)\n",
    "print (fibonacci(1))"
   ]
  },
  {
   "cell_type": "code",
   "execution_count": null,
   "metadata": {},
   "outputs": [],
   "source": [
    "assert fibonacci(10) == 55\n",
    "assert fibonacci(1) == 1"
   ]
  },
  {
   "cell_type": "markdown",
   "metadata": {},
   "source": [
    "## Working with strings"
   ]
  },
  {
   "cell_type": "code",
   "execution_count": 45,
   "metadata": {},
   "outputs": [
    {
     "name": "stdout",
     "output_type": "stream",
     "text": [
      "True\n"
     ]
    }
   ],
   "source": [
    "def palindrome(s: str) -> bool:\n",
    "  \"\"\"\n",
    "  This function verifies whether a given string is a palindrome or not\n",
    "  REMEMBER: a palindrome is a string that can be read identically\n",
    "  left to right and right to left\n",
    "  \"\"\"\n",
    "  \n",
    "  ### BEGIN SOLUTION\n",
    "def palindrome(s):\n",
    "    left_pos = 0\n",
    "    right_pos = len(s) -1\n",
    "    while right_pos >= left_pos:\n",
    "        if not s[left_pos] == s[right_pos]:\n",
    "            return False \n",
    "        left_pos += 1\n",
    "        right_pos -=1\n",
    "        return True\n",
    "    \n",
    "  \n",
    "  ### END SOLUTION\n",
    "print (palindrome ('kayak'))\n",
    "        "
   ]
  },
  {
   "cell_type": "code",
   "execution_count": null,
   "metadata": {},
   "outputs": [],
   "source": [
    "assert palindrome('kayak') == True\n",
    "assert palindrome('kabuki') == False"
   ]
  },
  {
   "cell_type": "code",
   "execution_count": null,
   "metadata": {},
   "outputs": [],
   "source": [
    "def remove_vowels(s: str) -> str:\n",
    "    \"\"\"\n",
    "    This function removes all vowels from strings\n",
    "    Example: \"hello\" -> \"hll\"\n",
    "    \"\"\"\n",
    "    \n",
    "    ### BEGIN SOLUTION\n",
    "    \n",
    "    \n",
    "    ### END SOLUTION"
   ]
  },
  {
   "cell_type": "code",
   "execution_count": null,
   "metadata": {},
   "outputs": [],
   "source": [
    "assert remove_vowels(\"hi\") == \"h\"\n",
    "assert remove_vowels(\"this was a good day\") == \"ths ws  gd dy\""
   ]
  },
  {
   "cell_type": "code",
   "execution_count": null,
   "metadata": {},
   "outputs": [],
   "source": [
    "def remove_spaces(s: str) -> str:\n",
    "    \"\"\"\n",
    "    This function removes all starting and trailing spaces from strings\n",
    "    Example: \"  hello\" -> \"hello\"\n",
    "    \"\"\"\n",
    "    \n",
    "    ### BEGIN SOLUTION\n",
    "    \n",
    "    \n",
    "    ### END SOLUTION"
   ]
  },
  {
   "cell_type": "code",
   "execution_count": null,
   "metadata": {},
   "outputs": [],
   "source": [
    "assert remove_spaces(\"  hi\") == \"hi\"\n",
    "assert remove_spaces(\" this was a good day \") == \"this was a good day\""
   ]
  },
  {
   "cell_type": "code",
   "execution_count": null,
   "metadata": {},
   "outputs": [],
   "source": [
    "def split_by_character(s: str, div: str) -> list:\n",
    "  \"\"\"\n",
    "  This function takes a string and splits it into a list using \n",
    "  divider div as separator. The function does not leave empty strings\n",
    "  in the list\n",
    "  \"\"\"\n",
    "  \n",
    "  ### BEGIN SOLUTION\n",
    "  \n",
    "  \n",
    "  ### END SOLUTION"
   ]
  },
  {
   "cell_type": "code",
   "execution_count": null,
   "metadata": {},
   "outputs": [],
   "source": [
    "assert split_by_character(\"francesco,faiza,herve\", \",\") == [\"francesco\", \"faiza\", \"herve\"]\n",
    "assert split_by_character(\" this was a  good day \", \" \") == [\"this\", \"was\", \"a\", \"good\", \"day\"]"
   ]
  },
  {
   "cell_type": "markdown",
   "metadata": {},
   "source": [
    "## Working with lists"
   ]
  },
  {
   "cell_type": "code",
   "execution_count": null,
   "metadata": {},
   "outputs": [],
   "source": [
    "def zeros(n: int) -> list:\n",
    "    \"\"\"\n",
    "    Returns a list of n items all set to 0.\n",
    "    NOTE: do not use numpy!\n",
    "    \"\"\"\n",
    "    \n",
    "    ### BEGIN SOLUTION\n",
    "    \n",
    "    \n",
    "    ### END SOLUTION"
   ]
  },
  {
   "cell_type": "code",
   "execution_count": null,
   "metadata": {},
   "outputs": [],
   "source": [
    "assert zeros(7) == [0, 0, 0, 0, 0, 0, 0]"
   ]
  },
  {
   "cell_type": "code",
   "execution_count": null,
   "metadata": {},
   "outputs": [],
   "source": [
    "def arange(a: float, b: float, step: float) -> list:\n",
    "  \"\"\"\n",
    "  Returns a list of step spaced numbers between a and b\n",
    "  NOTE: do not use numpy!\n",
    "  \"\"\"\n",
    "    \n",
    "  ### BEGIN SOLUTION\n",
    "  \n",
    "  \n",
    "  ### END SOLUTION"
   ]
  },
  {
   "cell_type": "code",
   "execution_count": null,
   "metadata": {},
   "outputs": [],
   "source": [
    "assert np.allclose(\n",
    "    arange(\n",
    "        1.3, 7.4, 0.7),\n",
    "    [1.3, 2.0 , 2.7, 3.4, 4.1, 4.8, 5.5, 6.2, 6.9]\n",
    ")\n",
    "assert np.allclose(\n",
    "    arange(\n",
    "        -10.1, 4.5, 4.5),\n",
    "    [-10.1,  -5.6,  -1.1,   3.4]\n",
    ")"
   ]
  },
  {
   "cell_type": "code",
   "execution_count": null,
   "metadata": {},
   "outputs": [],
   "source": [
    "def sum_list_of_floats(a: list, b:list) -> list:\n",
    "    \"\"\"\n",
    "    Returns the coordinate wise sum of a and b.\n",
    "    NOTE: do not use numpy!\n",
    "    \"\"\"\n",
    "\n",
    "    ### BEGIN SOLUTION\n",
    "\n",
    "\n",
    "    ### END SOLUTION"
   ]
  },
  {
   "cell_type": "code",
   "execution_count": null,
   "metadata": {},
   "outputs": [],
   "source": [
    "import numpy as np\n",
    "\n",
    "assert np.allclose(\n",
    "    sum_list_of_floats(\n",
    "        [1, 2, 3], [4, 5, -2.3]),\n",
    "    [5, 7, 0.7]\n",
    ")\n",
    "assert np.allclose(\n",
    "    sum_list_of_floats(\n",
    "        [0, 0], [1, -1]),\n",
    "    [1, -1]\n",
    ")"
   ]
  },
  {
   "cell_type": "code",
   "execution_count": null,
   "metadata": {},
   "outputs": [],
   "source": [
    "def order_list(a: list, descending: bool = False) -> list:\n",
    "  \"\"\"\n",
    "  Returns an ordered version of the list,\n",
    "  Ordered in descending order if descending is true,\n",
    "  ascending otherwise\n",
    "  NOTE: do not use numpy!\n",
    "  \"\"\"\n",
    "    \n",
    "  ### BEGIN SOLUTION\n",
    "  \n",
    "  \n",
    "  ### END SOLUTION"
   ]
  },
  {
   "cell_type": "code",
   "execution_count": null,
   "metadata": {},
   "outputs": [],
   "source": [
    "import numpy as np\n",
    "\n",
    "assert np.allclose(\n",
    "    order_list([4, -10, -18, 0, -6, 6, -10, 11, 15, 9]),\n",
    "    [-18, -10, -10, -6, 0, 4, 6, 9, 11, 15]\n",
    ")\n",
    "\n",
    "assert np.allclose(\n",
    "    order_list([4, -10, -18, 0, -6, 6, -10, 11, 15, 9], descending=True),\n",
    "    [15, 11, 9, 6, 4, 0, -6, -10, -10, -18]\n",
    ")"
   ]
  },
  {
   "cell_type": "code",
   "execution_count": null,
   "metadata": {},
   "outputs": [],
   "source": [
    "def index(a: list, x: float) -> list:\n",
    "  \"\"\"\n",
    "  Returns a list with the indexes of the values that match (i.e., are equal) to the value of x \n",
    "  NOTE: do not use numpy!\n",
    "  \"\"\"\n",
    "    \n",
    "  ### BEGIN SOLUTION\n",
    "  \n",
    "  \n",
    "  ### END SOLUTION"
   ]
  },
  {
   "cell_type": "code",
   "execution_count": null,
   "metadata": {},
   "outputs": [],
   "source": [
    "import numpy as np\n",
    "\n",
    "assert np.allclose(\n",
    "    index([3, 2, 2, 4, 1, 1, 3, 2, 4, 1], 2),\n",
    "    [1, 2, 7]\n",
    ")"
   ]
  },
  {
   "cell_type": "markdown",
   "metadata": {},
   "source": [
    "## Working with dictionaries"
   ]
  },
  {
   "cell_type": "code",
   "execution_count": null,
   "metadata": {},
   "outputs": [],
   "source": [
    "import csv\n",
    "\n",
    "def create_airtravel_dictionary(filename: str) -> dict:\n",
    "  \"\"\"\n",
    "  NOTE: do not use pandas!\n",
    "  \"\"\"\n",
    "    \n",
    "  ### BEGIN SOLUTION\n",
    "  \n",
    "  \n",
    "  ### END SOLUTION"
   ]
  },
  {
   "cell_type": "code",
   "execution_count": null,
   "metadata": {},
   "outputs": [],
   "source": [
    "airtravel = {'Month': ['JAN', 'FEB', 'MAR', 'APR', 'MAY', 'JUN', 'JUL', 'AUG', 'SEP', 'OCT', 'NOV', 'DEC'], '1958': [340, 318, 362, 348, 363, 435, 491, 505, 404, 359, 310, 337], '1959': [360, 342, 406, 396, 420, 472, 548, 559, 463, 407, 362, 405], '1960': [417, 391, 419, 461, 472, 535, 622, 606, 508, 461, 390, 432]}\n",
    "\n",
    "assert create_airtravel_dictionary('data/airtravel.csv') == airtravel"
   ]
  },
  {
   "cell_type": "code",
   "execution_count": null,
   "metadata": {},
   "outputs": [],
   "source": [
    "def get_month_statistics(airtravel: dict, month: str) -> list:\n",
    "  \"\"\"\n",
    "  NOTE: do not use pandas!\n",
    "  \"\"\"\n",
    "    \n",
    "  ### BEGIN SOLUTION\n",
    "  \n",
    "  \n",
    "  ### END SOLUTION"
   ]
  },
  {
   "cell_type": "code",
   "execution_count": null,
   "metadata": {},
   "outputs": [],
   "source": [
    "assert get_month_statistics(airtravel, \"MAY\") == [363, 420, 472]"
   ]
  }
 ],
 "metadata": {
  "interpreter": {
   "hash": "aee8b7b246df8f9039afb4144a1f6fd8d2ca17a180786b69acc140d282b71a49"
  },
  "kernelspec": {
   "display_name": "Python 3",
   "language": "python",
   "name": "python3"
  },
  "language_info": {
   "codemirror_mode": {
    "name": "ipython",
    "version": 3
   },
   "file_extension": ".py",
   "mimetype": "text/x-python",
   "name": "python",
   "nbconvert_exporter": "python",
   "pygments_lexer": "ipython3",
   "version": "3.8.5"
  }
 },
 "nbformat": 4,
 "nbformat_minor": 2
}
